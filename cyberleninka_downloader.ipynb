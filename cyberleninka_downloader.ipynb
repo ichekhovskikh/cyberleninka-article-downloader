{
  "nbformat": 4,
  "nbformat_minor": 0,
  "metadata": {
    "colab": {
      "name": "cyberleninka_downloader.ipynb",
      "provenance": [],
      "include_colab_link": true
    },
    "kernelspec": {
      "name": "python3",
      "display_name": "Python 3"
    }
  },
  "cells": [
    {
      "cell_type": "markdown",
      "metadata": {
        "id": "view-in-github",
        "colab_type": "text"
      },
      "source": [
        "<a href=\"https://colab.research.google.com/github/ichekhovskikh/cyberleninka-article-downloader/blob/master/cyberleninka_downloader.ipynb\" target=\"_parent\"><img src=\"https://colab.research.google.com/assets/colab-badge.svg\" alt=\"Open In Colab\"/></a>"
      ]
    },
    {
      "cell_type": "code",
      "metadata": {
        "id": "jInlbJDWxIkS",
        "colab_type": "code",
        "outputId": "4685285a-d05f-4511-c8a5-e805a5cd7a0f",
        "colab": {
          "base_uri": "https://localhost:8080/",
          "height": 104
        }
      },
      "source": [
        "!pip install requests\n",
        "\n",
        "import requests\n",
        "import re\n",
        "import json"
      ],
      "execution_count": 3,
      "outputs": [
        {
          "output_type": "stream",
          "text": [
            "Requirement already satisfied: requests in /usr/local/lib/python3.6/dist-packages (2.23.0)\n",
            "Requirement already satisfied: urllib3!=1.25.0,!=1.25.1,<1.26,>=1.21.1 in /usr/local/lib/python3.6/dist-packages (from requests) (1.24.3)\n",
            "Requirement already satisfied: chardet<4,>=3.0.2 in /usr/local/lib/python3.6/dist-packages (from requests) (3.0.4)\n",
            "Requirement already satisfied: idna<3,>=2.5 in /usr/local/lib/python3.6/dist-packages (from requests) (2.9)\n",
            "Requirement already satisfied: certifi>=2017.4.17 in /usr/local/lib/python3.6/dist-packages (from requests) (2020.4.5.1)\n"
          ],
          "name": "stdout"
        }
      ]
    },
    {
      "cell_type": "markdown",
      "metadata": {
        "id": "bp7i9zoVepp6",
        "colab_type": "text"
      },
      "source": [
        "Монтирование директории для работы с файлами"
      ]
    },
    {
      "cell_type": "code",
      "metadata": {
        "id": "JTnYCOItAHtX",
        "colab_type": "code",
        "colab": {
          "base_uri": "https://localhost:8080/",
          "height": 35
        },
        "outputId": "f5a28400-725f-4963-a4f0-f8f4a43c782e"
      },
      "source": [
        "from google.colab import drive\n",
        "drive.mount('/content/drive', force_remount=True)"
      ],
      "execution_count": 17,
      "outputs": [
        {
          "output_type": "stream",
          "text": [
            "Mounted at /content/drive\n"
          ],
          "name": "stdout"
        }
      ]
    },
    {
      "cell_type": "markdown",
      "metadata": {
        "id": "RsIxwnUHmXe0",
        "colab_type": "text"
      },
      "source": [
        "Указание пути для сохранения корпусов"
      ]
    },
    {
      "cell_type": "code",
      "metadata": {
        "id": "zFk7Ldx5mdKB",
        "colab_type": "code",
        "colab": {}
      },
      "source": [
        "train_save_path = '/content/drive/My Drive/corpus/train_corpus.json'\n",
        "test_save_path = '/content/drive/My Drive/corpus/test_corpus.json'"
      ],
      "execution_count": 0,
      "outputs": []
    },
    {
      "cell_type": "markdown",
      "metadata": {
        "id": "HfcBTjw-QwUf",
        "colab_type": "text"
      },
      "source": [
        "Указание тем и количество статей для обучения и тестирования"
      ]
    },
    {
      "cell_type": "code",
      "metadata": {
        "id": "ZIUq97aqLrCH",
        "colab_type": "code",
        "colab": {}
      },
      "source": [
        "search_tags = ['машинное обучение', 'космические снимки', 'российская история', 'квантовая физика', 'молекулярная химия']\n",
        "train_article_count = 100\n",
        "test_article_count = 10"
      ],
      "execution_count": 0,
      "outputs": []
    },
    {
      "cell_type": "markdown",
      "metadata": {
        "id": "5-xKoA_2R1Jv",
        "colab_type": "text"
      },
      "source": [
        "Укзание страниц сайта"
      ]
    },
    {
      "cell_type": "code",
      "metadata": {
        "id": "RThRJu3AR5Iw",
        "colab_type": "code",
        "colab": {}
      },
      "source": [
        "search_url = 'https://cyberleninka.ru/api/search'\n",
        "article_url = 'https://cyberleninka.ru'"
      ],
      "execution_count": 0,
      "outputs": []
    },
    {
      "cell_type": "markdown",
      "metadata": {
        "id": "NtrpHho0cCZC",
        "colab_type": "text"
      },
      "source": [
        "Создание сессии"
      ]
    },
    {
      "cell_type": "code",
      "metadata": {
        "id": "pKSqOudwcFcn",
        "colab_type": "code",
        "colab": {}
      },
      "source": [
        "session = requests.Session()"
      ],
      "execution_count": 0,
      "outputs": []
    },
    {
      "cell_type": "markdown",
      "metadata": {
        "id": "yVG-fGOAcJqw",
        "colab_type": "text"
      },
      "source": [
        "Сделать запрос поиска"
      ]
    },
    {
      "cell_type": "code",
      "metadata": {
        "id": "y5EqSmlGcW6C",
        "colab_type": "code",
        "colab": {}
      },
      "source": [
        "def search_articles(search_query, from_index, size):\n",
        "    params = {'mode': \"articles\", 'q': search_query, 'size': size, 'from': from_index}\n",
        "    response = session.post(search_url, data = json.dumps(params))\n",
        "    return json.loads(response.content)['articles']"
      ],
      "execution_count": 0,
      "outputs": []
    },
    {
      "cell_type": "markdown",
      "metadata": {
        "id": "4iOQMnzXgez1",
        "colab_type": "text"
      },
      "source": [
        "Получение ссылок на тексты научных статей"
      ]
    },
    {
      "cell_type": "code",
      "metadata": {
        "id": "RrWm1Wtie-6I",
        "colab_type": "code",
        "colab": {}
      },
      "source": [
        "def articles2links(articles):\n",
        "    links = []\n",
        "    for article in articles:\n",
        "        links.append(article['link'])\n",
        "    return links"
      ],
      "execution_count": 0,
      "outputs": []
    },
    {
      "cell_type": "markdown",
      "metadata": {
        "id": "0vsMVxPHO3e2",
        "colab_type": "text"
      },
      "source": [
        "Получение текста научной статьи по ссылке"
      ]
    },
    {
      "cell_type": "code",
      "metadata": {
        "id": "Rqq7DSvdMY9Z",
        "colab_type": "code",
        "colab": {}
      },
      "source": [
        "def link2text(acticle_link):\n",
        "    response = session.get(article_url + acticle_link)\n",
        "    html_page = response.content.decode()\n",
        "    matches = re.findall(r\"<p>(.+|\\n+)</p>\", html_page)\n",
        "    text = \"\"\n",
        "    for match in matches:\n",
        "       text = text + \"\\n\" + match.replace(\"<p>\", \"\").replace(\"</p>\", \"\")\n",
        "    return text"
      ],
      "execution_count": 0,
      "outputs": []
    },
    {
      "cell_type": "markdown",
      "metadata": {
        "id": "hgcTz8w1rLCo",
        "colab_type": "text"
      },
      "source": [
        "Конвертирование text в json"
      ]
    },
    {
      "cell_type": "code",
      "metadata": {
        "id": "CJBXVZrkpcFv",
        "colab_type": "code",
        "colab": {}
      },
      "source": [
        "def text2json(text_id, class_name, text):\n",
        "    clear_text = text.replace(\"\\n\", \" \").replace(\"\\t\", \" \").replace(\"\\r\", \" \").replace('\"', \"'\").replace(\"\\\\\", \"/\")\n",
        "    return '{\"id\":' + str(text_id) + ',\"text\":\"' + clear_text + '\",\"tags\":[\"' + str(text_id) + '\"],\"class_name\":\"' + class_name + '\"}'"
      ],
      "execution_count": 0,
      "outputs": []
    },
    {
      "cell_type": "markdown",
      "metadata": {
        "id": "BsGkGqfCmwd5",
        "colab_type": "text"
      },
      "source": [
        "Сохранить список json объектов"
      ]
    },
    {
      "cell_type": "code",
      "metadata": {
        "id": "FAD528QSm6j_",
        "colab_type": "code",
        "colab": {}
      },
      "source": [
        "def save_json_list(data_file, data_path):\n",
        "    save_file = \"[\" + data_file\n",
        "    if len(save_file) > 1:\n",
        "        save_file = save_file[:-1]\n",
        "    save_file += \"]\"\n",
        "    with open(data_path, 'w') as save_path:\n",
        "        save_path.write(save_file)\n"
      ],
      "execution_count": 0,
      "outputs": []
    },
    {
      "cell_type": "markdown",
      "metadata": {
        "id": "h8Qk3d1gecfa",
        "colab_type": "text"
      },
      "source": [
        "Получить все статьи"
      ]
    },
    {
      "cell_type": "code",
      "metadata": {
        "id": "ihXRZ3zwJkmf",
        "colab_type": "code",
        "colab": {}
      },
      "source": [
        "train_corpus_file = \"\"\n",
        "test_corpus_file = \"\"\n",
        "\n",
        "train_size = train_article_count * len(search_tags)\n",
        "train_id = 0\n",
        "test_id = train_size\n",
        "\n",
        "for search_tag in search_tags:\n",
        "    train_articles = search_articles(search_tag, 0, train_article_count)\n",
        "    test_articles = search_articles(search_tag, train_article_count, test_article_count)\n",
        "    train_links = articles2links(train_articles)\n",
        "    test_links = articles2links(test_articles)\n",
        "\n",
        "    for link in train_links:\n",
        "        text = link2text(link)\n",
        "        acticle_json = text2json(train_id, search_tag, text)\n",
        "        train_corpus_file += acticle_json + \",\"\n",
        "        train_id += 1\n",
        "\n",
        "    for link in test_links:\n",
        "        text = link2text(link)\n",
        "        acticle_json = text2json(test_id, search_tag, text)\n",
        "        test_corpus_file += acticle_json + \",\"\n",
        "        test_id += 1\n",
        "\n",
        "save_json_list(train_corpus_file, train_save_path)\n",
        "save_json_list(test_corpus_file, test_save_path)"
      ],
      "execution_count": 0,
      "outputs": []
    }
  ]
}